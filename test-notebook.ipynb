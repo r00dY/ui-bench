{
 "cells": [
  {
   "cell_type": "code",
   "execution_count": 56,
   "id": "66414c00-461f-42a0-b019-de7c9f8d9c90",
   "metadata": {},
   "outputs": [],
   "source": [
    "test = 1"
   ]
  },
  {
   "cell_type": "code",
   "execution_count": 59,
   "id": "65fc1ea0-28bc-4683-ae16-3967ca55e36c",
   "metadata": {},
   "outputs": [
    {
     "name": "stdout",
     "output_type": "stream",
     "text": [
      "4\n"
     ]
    }
   ],
   "source": [
    "test = test + 1\n",
    "print(test)"
   ]
  },
  {
   "cell_type": "code",
   "execution_count": 53,
   "id": "85765e51-fe95-4c80-a1b3-ce855edc6d00",
   "metadata": {},
   "outputs": [],
   "source": [
    "\n",
    "a = { \"dupa\": 8, \"cipa\": 12 }"
   ]
  },
  {
   "cell_type": "code",
   "execution_count": 54,
   "id": "30f1f530-80c7-4ed0-8364-a91e1a5ea2ee",
   "metadata": {},
   "outputs": [],
   "source": [
    "b = { **a, \"test\": 12 }\n"
   ]
  },
  {
   "cell_type": "code",
   "execution_count": 55,
   "id": "fa7158dc-4085-446b-ac86-aaaabaeb4820",
   "metadata": {},
   "outputs": [
    {
     "name": "stdout",
     "output_type": "stream",
     "text": [
      "{'dupa': 8, 'cipa': 12, 'test': 12}\n"
     ]
    }
   ],
   "source": [
    "print(b)"
   ]
  },
  {
   "cell_type": "code",
   "execution_count": null,
   "id": "50a4e94c-aac8-4d1c-b058-25b1ffc46b8e",
   "metadata": {},
   "outputs": [],
   "source": []
  }
 ],
 "metadata": {
  "kernelspec": {
   "display_name": "Python 3 (ipykernel)",
   "language": "python",
   "name": "python3"
  },
  "language_info": {
   "codemirror_mode": {
    "name": "ipython",
    "version": 3
   },
   "file_extension": ".py",
   "mimetype": "text/x-python",
   "name": "python",
   "nbconvert_exporter": "python",
   "pygments_lexer": "ipython3",
   "version": "3.13.1"
  }
 },
 "nbformat": 4,
 "nbformat_minor": 5
}
